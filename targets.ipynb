{
 "cells": [
  {
   "cell_type": "markdown",
   "metadata": {},
   "source": [
    "See https://analytics.wikimedia.org/published/datasets/country_project_page/00_README.html"
   ]
  },
  {
   "cell_type": "code",
   "execution_count": 14,
   "metadata": {},
   "outputs": [],
   "source": [
    "import datetime as dt\n",
    "import csv\n",
    "import pandas as pd\n",
    "import requests\n",
    "\n",
    "from pathlib import Path"
   ]
  },
  {
   "cell_type": "code",
   "execution_count": 10,
   "metadata": {},
   "outputs": [],
   "source": [
    "start_date = dt.date(year=2024, month=2, day=1)\n",
    "end_date = dt.date(year=2024, month=2, day=12)"
   ]
  },
  {
   "cell_type": "markdown",
   "metadata": {},
   "source": [
    "Download data for the date range locally, into files in the current directory. Only need to do this once, unless you change the date range."
   ]
  },
  {
   "cell_type": "code",
   "execution_count": 12,
   "metadata": {},
   "outputs": [],
   "source": [
    "for d in pd.date_range(start_date, end_date):\n",
    "    fn = d.strftime('%Y-%m-%d') + '.tsv'\n",
    "    tsv = requests.get(f'https://analytics.wikimedia.org/published/datasets/country_project_page/{fn}')\n",
    "    Path(fn).write_bytes(tsv.content)"
   ]
  },
  {
   "cell_type": "markdown",
   "metadata": {},
   "source": [
    "Create a dictionary for the en.wikipedia project containing DP page views by (country, page)."
   ]
  },
  {
   "cell_type": "code",
   "execution_count": 23,
   "metadata": {},
   "outputs": [],
   "source": [
    "data = {}\n",
    "for d in pd.date_range(start_date, end_date):\n",
    "    fn = d.strftime('%Y-%m-%d') + '.tsv'\n",
    "    content = Path(fn).read_text()\n",
    "    for row in csv.reader(content.splitlines(), delimiter='\\t', escapechar='\\\\'):\n",
    "        country = row[0]\n",
    "        project = row[2]\n",
    "        page_title = row[4]\n",
    "        gbc = row[5]\n",
    "\n",
    "        if project != 'en.wikipedia':\n",
    "            continue\n",
    "\n",
    "        key = (country, page_title)\n",
    "        gbcs = data.get(key, [])\n",
    "\n",
    "        if gbcs == []:\n",
    "            data[key] = gbcs\n",
    "\n",
    "        gbcs.append(int(gbc))"
   ]
  },
  {
   "cell_type": "markdown",
   "metadata": {},
   "source": [
    "Identify page / country pairs with a \"small\" and \"fairly consistent\" number of views."
   ]
  },
  {
   "cell_type": "code",
   "execution_count": 33,
   "metadata": {},
   "outputs": [
    {
     "name": "stdout",
     "output_type": "stream",
     "text": [
      "('United States', 'Ford_Models') [133, 120, 123, 145, 120, 140, 127, 134, 133, 118, 125, 120]\n",
      "('India', 'Kaushiki_Chakraborty') [171, 176, 172, 186, 187, 157, 185, 178, 170, 184, 162, 166]\n",
      "('United States', 'Imagine_(John_Lennon_album)') [161, 151, 149, 150, 158, 140, 157, 150, 153, 145, 163, 150]\n",
      "('United States', 'Pontiac_Sunbird') [128, 137, 122, 135, 115, 122, 128, 143, 119, 139, 130, 132]\n",
      "('United States', 'Morris_dance') [124, 116, 122, 134, 138, 132, 134, 146, 140, 137, 139, 123]\n",
      "('United States', 'Brearley_School') [135, 128, 108, 118, 124, 133, 122, 133, 136, 130, 118, 117]\n",
      "('United States', 'Rooting_(Android)') [127, 139, 151, 146, 143, 150, 122, 133, 146, 147, 130, 126]\n",
      "('United States', 'Black_separatism') [164, 151, 171, 150, 160, 149, 173, 167, 148, 152, 152, 176]\n",
      "('India', '2016_United_States_presidential_election') [138, 160, 162, 154, 138, 162, 140, 144, 147, 160, 155, 145]\n",
      "('Ireland', 'Barents_Sea') [298, 305, 288, 292, 297, 302, 284, 296, 308, 280, 306, 283]\n",
      "('United States', 'AgustaWestland_AW109') [123, 140, 117, 125, 137, 118, 138, 133, 129, 143, 147, 118]\n",
      "('Indonesia', 'Android_(operating_system)') [113, 116, 134, 139, 123, 109, 120, 124, 114, 117, 137, 126]\n",
      "('United States', 'Killzone') [120, 144, 130, 147, 124, 134, 134, 139, 127, 150, 130, 136]\n",
      "('United States', 'Old_Folks_at_Home') [122, 134, 125, 133, 133, 138, 129, 120, 118, 126, 126, 117]\n"
     ]
    }
   ],
   "source": [
    "MIN_VIEWS = 100\n",
    "MAX_VIEWS = 500\n",
    "ACCEPTABLE_RANGE = 30\n",
    "\n",
    "days = len(pd.date_range(start_date, end_date))\n",
    "for k, v in data.items():\n",
    "    gbc_min = min(v)\n",
    "    gbc_max = max(v)\n",
    "    if len(v) == days and gbc_min >= MIN_VIEWS and gbc_max <= MAX_VIEWS and gbc_max - gbc_min <= ACCEPTABLE_RANGE:\n",
    "        print(k, v)"
   ]
  }
 ],
 "metadata": {
  "kernelspec": {
   "display_name": ".venv",
   "language": "python",
   "name": "python3"
  },
  "language_info": {
   "codemirror_mode": {
    "name": "ipython",
    "version": 3
   },
   "file_extension": ".py",
   "mimetype": "text/x-python",
   "name": "python",
   "nbconvert_exporter": "python",
   "pygments_lexer": "ipython3",
   "version": "3.11.6"
  }
 },
 "nbformat": 4,
 "nbformat_minor": 2
}
